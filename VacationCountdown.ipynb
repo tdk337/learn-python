{
  "nbformat": 4,
  "nbformat_minor": 0,
  "metadata": {
    "colab": {
      "name": "VacationCountdown.ipynb",
      "version": "0.3.2",
      "provenance": [],
      "include_colab_link": true
    },
    "kernelspec": {
      "name": "python2",
      "display_name": "Python 2"
    }
  },
  "cells": [
    {
      "cell_type": "markdown",
      "metadata": {
        "id": "view-in-github",
        "colab_type": "text"
      },
      "source": [
        "[View in Colaboratory](https://colab.research.google.com/github/tdk337/learn-python/blob/master/VacationCountdown.ipynb)"
      ]
    },
    {
      "metadata": {
        "id": "8nkkhbBDQDHm",
        "colab_type": "code",
        "colab": {}
      },
      "cell_type": "code",
      "source": [
        "#!/home/thomas/anaconda2/bin/python\n",
        "import datetime as dt\n",
        "\n",
        "# Configure settings\n",
        "VacationDate = dt.date(2018, 9, 30)\n",
        "VacationLocation = \"Hong Kong\""
      ],
      "execution_count": 0,
      "outputs": []
    },
    {
      "metadata": {
        "id": "_ns8zVCOOep_",
        "colab_type": "code",
        "colab": {}
      },
      "cell_type": "code",
      "source": [
        "# Calculate date delta\n",
        "TodaysDate = dt.date.today()\n",
        "DateDelta = VacationDate - TodaysDate"
      ],
      "execution_count": 0,
      "outputs": []
    },
    {
      "metadata": {
        "id": "sEiMp_qpQUNR",
        "colab_type": "code",
        "colab": {
          "base_uri": "https://localhost:8080/",
          "height": 34
        },
        "outputId": "18b7e83e-603d-4478-88f3-017dccd8dbd9"
      },
      "cell_type": "code",
      "source": [
        "# Return results\n",
        "print(\"{0} days until your trip to {1}.\".format(DateDelta, VacationLocation))"
      ],
      "execution_count": 5,
      "outputs": [
        {
          "output_type": "stream",
          "text": [
            "31 days, 0:00:00 days until your trip to Hong Kong.\n"
          ],
          "name": "stdout"
        }
      ]
    }
  ]
}