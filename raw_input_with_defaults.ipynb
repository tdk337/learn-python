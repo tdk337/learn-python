{
  "nbformat": 4,
  "nbformat_minor": 0,
  "metadata": {
    "colab": {
      "name": "raw_input_with_defaults.ipynb",
      "version": "0.3.2",
      "provenance": [],
      "include_colab_link": true
    }
  },
  "cells": [
    {
      "cell_type": "markdown",
      "metadata": {
        "id": "view-in-github",
        "colab_type": "text"
      },
      "source": [
        "[View in Colaboratory](https://colab.research.google.com/github/tdk337/learn-python/blob/master/raw_input_with_defaults.ipynb)"
      ]
    },
    {
      "metadata": {
        "id": "M_bklL4pSf8v",
        "colab_type": "code",
        "colab": {
          "base_uri": "https://localhost:8080/",
          "height": 34
        },
        "outputId": "fbaad696-a634-47ed-8f1e-5067ac60c8df"
      },
      "cell_type": "code",
      "source": [
        "import sys\n",
        "print (sys.version_info)"
      ],
      "execution_count": 18,
      "outputs": [
        {
          "output_type": "stream",
          "text": [
            "sys.version_info(major=2, minor=7, micro=14, releaselevel='final', serial=0)\n"
          ],
          "name": "stdout"
        }
      ]
    },
    {
      "metadata": {
        "id": "E3UGwlEFVz-c",
        "colab_type": "text"
      },
      "cell_type": "markdown",
      "source": [
        "Helper to create list of command and arguments to use with subprocess"
      ]
    },
    {
      "metadata": {
        "id": "__V2snAbS4r4",
        "colab_type": "code",
        "colab": {
          "base_uri": "https://localhost:8080/",
          "height": 68
        },
        "outputId": "6ae7daa5-67a0-45e1-c92b-790e2cc57580"
      },
      "cell_type": "code",
      "source": [
        "import shlex, subprocess\n",
        "command_line = raw_input(\"Input your shell command or leave blank for default example:\\n\") or \"ls -l\"\n",
        "\n",
        "args = shlex.split(command_line)\n",
        "print(args)\n",
        "\n",
        "p = subprocess.Popen(args) # Success!"
      ],
      "execution_count": 19,
      "outputs": [
        {
          "output_type": "stream",
          "text": [
            "Input your shell command or leave blank for default example:\n",
            "\n",
            "['ls', '-l']\n"
          ],
          "name": "stdout"
        }
      ]
    },
    {
      "metadata": {
        "id": "yoneLFSqqeDp",
        "colab_type": "code",
        "colab": {}
      },
      "cell_type": "code",
      "source": [
        "machs_all_str = 'server001 server002 server003'"
      ],
      "execution_count": 0,
      "outputs": []
    },
    {
      "metadata": {
        "id": "yZJRlnMbNlal",
        "colab_type": "code",
        "colab": {
          "base_uri": "https://localhost:8080/",
          "height": 68
        },
        "outputId": "6e801f09-0bf9-485e-93b2-bd9bdebc5f66"
      },
      "cell_type": "code",
      "source": [
        "msg_select_machs = 'Enter machines or leave blank to use default hosts: %s\\n' % machs_all_str\n",
        "\n",
        "input_select_machines = str(raw_input(msg_select_machs) or machs_all_str)\n",
        "print('You selected: '+input_select_machines)"
      ],
      "execution_count": 21,
      "outputs": [
        {
          "output_type": "stream",
          "text": [
            "Enter machines or leave blank to use default hosts: server001 server002 server003\n",
            "\n",
            "You selected: server001 server002 server003\n"
          ],
          "name": "stdout"
        }
      ]
    },
    {
      "metadata": {
        "id": "ehIZyO4xQKq8",
        "colab_type": "code",
        "colab": {
          "base_uri": "https://localhost:8080/",
          "height": 34
        },
        "outputId": "121683da-ae93-4b22-d057-2b92c4de449f"
      },
      "cell_type": "code",
      "source": [
        "machs_all_list = []\n",
        "machs_all_list = input_select_machines.split()\n",
        "print(machs_all_list)"
      ],
      "execution_count": 22,
      "outputs": [
        {
          "output_type": "stream",
          "text": [
            "['server001', 'server002', 'server003']\n"
          ],
          "name": "stdout"
        }
      ]
    }
  ]
}